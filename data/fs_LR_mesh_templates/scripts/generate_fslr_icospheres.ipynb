{
 "cells": [
  {
   "cell_type": "code",
   "execution_count": 1,
   "metadata": {},
   "outputs": [],
   "source": [
    "import sys\n",
    "import numpy as np\n",
    "sys.path.insert(0, '/home/ngohgia/lib/ugscnn/meshcnn') # path to local copy of https://github.com/maxjiang93/ugscnn\n",
    "from mesh_utils import *\n",
    "import scipy.sparse as sparse\n",
    "sys.path.insert(0, '/home/ngohgia/libigl/python') # path to the python binings of libigl\n",
    "import pyigl as igl\n",
    "import pickle\n",
    "import os\n",
    "import nibabel.gifti as gi\n",
    "\n"
   ]
  },
  {
   "cell_type": "code",
   "execution_count": 2,
   "metadata": {},
   "outputs": [],
   "source": [
    "# from https://github.com/maxjiang93/ugscnn\n",
    "\n",
    "class icosphere(object):\n",
    "    def __init__(self, vertices, faces, level=0, nv_prev=0, nv_next=0):\n",
    "        self.level = level\n",
    "        self.vertices, self.faces = vertices, faces\n",
    "        self.intp = None\n",
    "        self.v0, self.f0 = self.vertices.copy(), self.faces.copy()\n",
    "\n",
    "        self.normalize()\n",
    "        self.lat, self.long = self.xyz2latlong()\n",
    "        self.nf, self.nv = self.faces.shape[0], self.vertices.shape[0]\n",
    "\n",
    "        self.nv_prev = nv_prev\n",
    "        self.nv_next = nv_next\n",
    "\n",
    "        self.construct_matrices()\n",
    "        self.info = {\"V\": self.vertices,\n",
    "                     \"F\": self.faces,\n",
    "                     \"nv_prev\": self.nv_prev,\n",
    "                     \"nv_next\": self.nv_next,\n",
    "                     \"G\": self.G,\n",
    "                     \"L\": self.L,\n",
    "                     \"N\": self.N,\n",
    "                     \"NS\": self.NS,\n",
    "                     \"EW\": self.EW,\n",
    "                     \"F2V\": self.F2V,\n",
    "                     \"M\": self.M,\n",
    "                     \"Seq\": self.Seq,\n",
    "                     \"Intp\": self.Intp}\n",
    "        \n",
    "    def normalize(self, radius=1):\n",
    "        '''\n",
    "        Reproject to spherical surface\n",
    "        '''\n",
    "        vectors = self.vertices\n",
    "        scalar = (vectors ** 2).sum(axis=1)**.5\n",
    "        unit = vectors / scalar.reshape((-1, 1))\n",
    "        offset = radius - scalar\n",
    "        self.vertices = self.vertices + unit * offset.reshape((-1, 1))\n",
    "        \n",
    "    def xyz2latlong(self):\n",
    "        x, y, z = self.vertices[:, 0], self.vertices[:, 1], self.vertices[:, 2]\n",
    "        long = np.arctan2(y, x)\n",
    "        xy2 = x**2 + y**2\n",
    "        lat = np.arctan2(z, np.sqrt(xy2))\n",
    "        return lat, long\n",
    "    \n",
    "    def construct_matrices(self):\n",
    "        \"\"\"\n",
    "        Construct FEM matrices\n",
    "        \"\"\"\n",
    "        V = p2e(self.vertices)\n",
    "        F = p2e(self.faces)\n",
    "        # Compute gradient operator: #F*3 by #V\n",
    "        G = igl.eigen.SparseMatrixd()\n",
    "        L = igl.eigen.SparseMatrixd()\n",
    "        M = igl.eigen.SparseMatrixd()\n",
    "        N = igl.eigen.MatrixXd()\n",
    "        A = igl.eigen.MatrixXd()\n",
    "        igl.grad(V, F, G)\n",
    "        igl.cotmatrix(V, F, L)\n",
    "        igl.per_face_normals(V, F, N)\n",
    "        igl.doublearea(V, F, A)\n",
    "        igl.massmatrix(V, F, igl.MASSMATRIX_TYPE_VORONOI, M)\n",
    "        G = e2p(G)\n",
    "        L = e2p(L)\n",
    "        N = e2p(N)\n",
    "        A = e2p(A)\n",
    "        M = e2p(M)\n",
    "        M = M.data\n",
    "        # Compute latitude and longitude directional vector fields\n",
    "        NS = np.reshape(G.dot(self.lat), [self.nf, 3], order='F')\n",
    "        EW = np.cross(NS, N)\n",
    "        # Compute F2V matrix (weigh by area)\n",
    "        # adjacency\n",
    "        i = self.faces.ravel()\n",
    "        j = np.arange(self.nf).repeat(3)\n",
    "        one = np.ones(self.nf * 3)\n",
    "        adj = sparse.csc_matrix((one, (i, j)), shape=(self.nv, self.nf))\n",
    "        tot_area = adj.dot(A)\n",
    "        norm_area = A.ravel().repeat(3)/np.squeeze(tot_area[i])\n",
    "        F2V = sparse.csc_matrix((norm_area, (i, j)), shape=(self.nv, self.nf))\n",
    "        # Compute interpolation matrix\n",
    "        if self.level > 0:\n",
    "            intp = self.intp[self.nv_prev:]\n",
    "            i = np.concatenate((np.arange(self.nv), np.arange(self.nv_prev, self.nv)))\n",
    "            j = np.concatenate((np.arange(self.nv_prev), intp[:, 0], intp[:, 1]))\n",
    "            ratio = np.concatenate((np.ones(self.nv_prev), 0.5*np.ones(2*intp.shape[0])))\n",
    "            intp = sparse.csc_matrix((ratio, (i, j)), shape=(self.nv, self.nv_prev))\n",
    "        else:\n",
    "            intp = sparse.csc_matrix(np.eye(self.nv))\n",
    "\n",
    "\n",
    "        # Compute vertex mean matrix\n",
    "        self.G = G  # gradient matrix\n",
    "        self.L = L  # laplacian matrix\n",
    "        self.N = N  # normal vectors (per-triangle)\n",
    "        self.NS = NS  # north-south vectors (per-triangle)\n",
    "        self.EW = EW  # east-west vectors (per-triangle)\n",
    "        self.F2V = F2V  # map face quantities to vertices\n",
    "        self.M = M # mass matrix (area of voronoi cell around node. for integration)\n",
    "        self.Seq = self._rotseq(self.vertices)\n",
    "        self.Intp = intp\n",
    "\n",
    "    def _find_neighbor(self, F, ind):\n",
    "        \"\"\"find a icosahedron neighbor of vertex i\"\"\"\n",
    "        FF = [F[i] for i in range(F.shape[0]) if ind in F[i]]\n",
    "        FF = np.concatenate(FF)\n",
    "        FF = np.unique(FF)\n",
    "        neigh = [f for f in FF if f != ind]\n",
    "        return neigh\n",
    "    \n",
    "    def _rot_matrix(self, rot_axis, cos_t, sin_t):\n",
    "        k = rot_axis / np.linalg.norm(rot_axis)\n",
    "        I = np.eye(3)\n",
    "\n",
    "        R = []\n",
    "        for i in range(3):\n",
    "            v = I[i]\n",
    "            vr = v*cos_t+np.cross(k, v)*sin_t+k*(k.dot(v))*(1-cos_t)\n",
    "            R.append(vr)\n",
    "        R = np.stack(R, axis=-1)\n",
    "        return R\n",
    "\n",
    "    def _ico_rot_matrix(self, ind):\n",
    "        \"\"\"\n",
    "        return rotation matrix to perform permutation corresponding to \n",
    "        moving a certain icosahedron node to the top\n",
    "        \"\"\"\n",
    "        v0_ = self.v0.copy()\n",
    "        f0_ = self.f0.copy()\n",
    "        V0 = v0_[ind]\n",
    "        Z0 = np.array([0, 0, 1])\n",
    "\n",
    "        # rotate the point to the top (+z)\n",
    "        k = np.cross(V0, Z0)\n",
    "        ct = np.dot(V0, Z0)\n",
    "        st = -np.linalg.norm(k)\n",
    "        R = self._rot_matrix(k, ct, st)\n",
    "        v0_ = v0_.dot(R)\n",
    "\n",
    "        # rotate a neighbor to align with (+y)\n",
    "        ni = self._find_neighbor(f0_, ind)[0]\n",
    "        vec = v0_[ni].copy()\n",
    "        vec[2] = 0\n",
    "        vec = vec/np.linalg.norm(vec)\n",
    "        y_ = np.eye(3)[1]\n",
    "\n",
    "        k = np.eye(3)[2]\n",
    "        crs = np.cross(vec, y_)\n",
    "        ct = np.dot(vec, y_)\n",
    "        st = -np.sign(crs[-1])*np.linalg.norm(crs)\n",
    "\n",
    "        R2 = self._rot_matrix(k, ct, st)\n",
    "        return R.dot(R2)\n",
    "\n",
    "    def _rotseq(self, V, acc=9):\n",
    "        \"\"\"sequence to move an original node on icosahedron to top\"\"\"\n",
    "        seq = []\n",
    "        for i in range(11):\n",
    "            Vr = V.dot(self._ico_rot_matrix(i))\n",
    "            # lexsort\n",
    "            s1 = np.lexsort(np.round(V.T, acc))\n",
    "            s2 = np.lexsort(np.round(Vr.T, acc))\n",
    "            s = s1[np.argsort(s2)]\n",
    "            seq.append(s)\n",
    "        return tuple(seq)\n",
    "    \n",
    "    def export_mesh_info(self, filename):\n",
    "        \"\"\"Write mesh info as pickle file\"\"\"\n",
    "        with open(filename, \"wb\") as f:\n",
    "            pickle.dump(self.info, f)\n",
    "\n",
    "        "
   ]
  },
  {
   "cell_type": "code",
   "execution_count": 3,
   "metadata": {},
   "outputs": [],
   "source": [
    "def get_corresponding_vertices_between_icospheres(ico1_vertices, ico2_vertices):\n",
    "    closest_vertices = []\n",
    "    closest_dists = []\n",
    "    for i in range(ico1_vertices.shape[0]):\n",
    "        if i % 1000 == 0:\n",
    "            print(i, \"/\", ico1_vertices.shape[0])\n",
    "        ico1_v = ico1_vertices[i, :]\n",
    "        \n",
    "        min_dist = sys.float_info.max\n",
    "        closest_point = -1\n",
    "        for j in range(ico2_vertices.shape[0]):\n",
    "            ico2_v = ico2_vertices[j, :]\n",
    "            dist = np.mean((ico1_v - ico2_v)**2)\n",
    "            \n",
    "            if dist == 0:\n",
    "                min_dist = 0\n",
    "                closest_point = j\n",
    "                break\n",
    "            elif dist < min_dist:\n",
    "                min_dist = dist\n",
    "                closest_point = j\n",
    "        closest_vertices.append(closest_point)\n",
    "        closest_dists.append(min_dist)\n",
    "\n",
    "    return closest_vertices, closest_dists"
   ]
  },
  {
   "cell_type": "code",
   "execution_count": 4,
   "metadata": {},
   "outputs": [],
   "source": [
    "def get_nearest_vertices_in_lower_res_icosphere(highres_ico_vertices, lowres_ico_vertices, num_neighbors=7):\n",
    "    closest_vertices = []\n",
    "    closest_dists = []\n",
    "    for i in range(highres_ico_vertices.shape[0]):\n",
    "        if i % 1000 == 0:\n",
    "            print(i, \"/\", highres_ico_vertices.shape[0])\n",
    "        ico1_v = highres_ico_vertices[i, :]\n",
    "\n",
    "        dists = np.mean((lowres_ico_vertices - ico1_v)**2, axis=1)\n",
    "        sorted_dist_indices = np.argsort(dists)\n",
    "        nearest_indices = sorted_dist_indices[:num_neighbors]\n",
    "        nearest_dists = dists[nearest_indices]\n",
    "        \n",
    "        closest_vertices.append(nearest_indices)\n",
    "        closest_dists.append(nearest_dists)\n",
    "\n",
    "                \n",
    "    return np.asarray(closest_vertices), np.asarray(closest_dists)"
   ]
  },
  {
   "cell_type": "code",
   "execution_count": 5,
   "metadata": {},
   "outputs": [
    {
     "name": "stderr",
     "output_type": "stream",
     "text": [
      "/home/ghn8/.conda/envs/text2brain_clean/lib/python3.6/site-packages/ipykernel_launcher.py:1: DeprecationWarning: giftiio.read function deprecated. Use nibabel.load() instead.\n",
      "\n",
      "* deprecated from version: 2.1\n",
      "* Will raise <class 'nibabel.deprecator.ExpiredDeprecationError'> as of version: 4.0\n",
      "  \"\"\"Entry point for launching an IPython kernel.\n",
      "/home/ghn8/.conda/envs/text2brain_clean/lib/python3.6/site-packages/ipykernel_launcher.py:2: DeprecationWarning: giftiio.read function deprecated. Use nibabel.load() instead.\n",
      "\n",
      "* deprecated from version: 2.1\n",
      "* Will raise <class 'nibabel.deprecator.ExpiredDeprecationError'> as of version: 4.0\n",
      "  \n",
      "/home/ghn8/.conda/envs/text2brain_clean/lib/python3.6/site-packages/ipykernel_launcher.py:3: DeprecationWarning: giftiio.read function deprecated. Use nibabel.load() instead.\n",
      "\n",
      "* deprecated from version: 2.1\n",
      "* Will raise <class 'nibabel.deprecator.ExpiredDeprecationError'> as of version: 4.0\n",
      "  This is separate from the ipykernel package so we can avoid doing imports until\n"
     ]
    }
   ],
   "source": [
    "mesh100 = gi.read ('meshes/sphere.100.surf.gii')\n",
    "mesh200 = gi.read ('meshes/sphere.200.surf.gii')\n",
    "mesh500 = gi.read ('meshes/sphere.500.surf.gii')\n"
   ]
  },
  {
   "cell_type": "code",
   "execution_count": 6,
   "metadata": {},
   "outputs": [],
   "source": [
    "ico100 = icosphere(mesh100.darrays[0].data, mesh100.darrays[1].data, level=0, nv_prev=0, nv_next=len(mesh200.darrays[0].data))\n",
    "ico200 = icosphere(mesh200.darrays[0].data, mesh200.darrays[1].data, level=0, nv_prev=len(mesh100.darrays[0].data), nv_next=len(mesh500.darrays[0].data))\n",
    "ico500 = icosphere(mesh500.darrays[0].data, mesh500.darrays[1].data, level=0, nv_prev=len(mesh200.darrays[0].data), nv_next=0)\n",
    "\n"
   ]
  },
  {
   "cell_type": "code",
   "execution_count": 7,
   "metadata": {},
   "outputs": [
    {
     "name": "stdout",
     "output_type": "stream",
     "text": [
      "92 0 162\n",
      "162 92 492\n",
      "492 162 0\n"
     ]
    }
   ],
   "source": [
    "print(ico100.nv, ico100.nv_prev, ico100.nv_next)\n",
    "print(ico200.nv, ico200.nv_prev, ico200.nv_next)\n",
    "print(ico500.nv, ico500.nv_prev, ico500.nv_next)\n"
   ]
  },
  {
   "cell_type": "markdown",
   "metadata": {},
   "source": [
    "## Save icospheres"
   ]
  },
  {
   "cell_type": "code",
   "execution_count": 8,
   "metadata": {},
   "outputs": [],
   "source": [
    "ico100.export_mesh_info('meshes/icosphere_0.pkl')\n",
    "ico200.export_mesh_info('meshes/icosphere_1.pkl')\n",
    "ico500.export_mesh_info('meshes/icosphere_2.pkl')"
   ]
  },
  {
   "cell_type": "code",
   "execution_count": 9,
   "metadata": {},
   "outputs": [],
   "source": [
    "all_icos = [ico100, ico200, ico500]\n",
    "all_ico_names = [\"icosphere_0\", \"icosphere_1\", \"icosphere_2\"]\n",
    "\n",
    "for i in range(len(all_icos)):\n",
    "    all_icos[i].export_mesh_info(\"%s.pkl\" % all_ico_names[i])"
   ]
  },
  {
   "cell_type": "markdown",
   "metadata": {},
   "source": [
    "## Save neighbor patches"
   ]
  },
  {
   "cell_type": "code",
   "execution_count": 10,
   "metadata": {},
   "outputs": [
    {
     "name": "stdout",
     "output_type": "stream",
     "text": [
      "(92, 7)\n",
      "(162, 7)\n",
      "(492, 7)\n"
     ]
    }
   ],
   "source": [
    "for i in range(len(all_icos)):\n",
    "    ico = all_icos[i]\n",
    "    name = all_ico_names[i]\n",
    "    if not os.path.exists(\"meshes/%s_neighbor_patches.npy\" % name):\n",
    "        ico_neighbors = []\n",
    "        for i in range(len(ico.vertices)):\n",
    "            neighbors = ico._find_neighbor(ico.faces, i)\n",
    "            patch = [i] + neighbors\n",
    "            if len(patch) < 7:\n",
    "                patch = [i] + patch\n",
    "            ico_neighbors.append(np.asarray(patch))\n",
    "        ico_neighbors = np.asarray(ico_neighbors)\n",
    "        print(ico_neighbors.shape)\n",
    "        np.save(\"meshes/%s_neighbor_patches.npy\" % name, ico_neighbors)"
   ]
  },
  {
   "cell_type": "markdown",
   "metadata": {},
   "source": [
    "## Save corresponding vertices between icospherical resolutions"
   ]
  },
  {
   "cell_type": "code",
   "execution_count": 11,
   "metadata": {},
   "outputs": [
    {
     "name": "stdout",
     "output_type": "stream",
     "text": [
      "0 / 92\n",
      "icosphere_0_to_icosphere_1\n",
      "0 / 162\n",
      "icosphere_1_to_icosphere_2\n"
     ]
    }
   ],
   "source": [
    "for i in range(len(all_icos)-1):\n",
    "    highres_ico = all_icos[i+1]\n",
    "    highres_name =all_ico_names[i+1]\n",
    "    lowres_ico = all_icos[i]\n",
    "    lowres_name =all_ico_names[i]\n",
    "    \n",
    "    if not os.path.exists('%s_to_%s_vertices.npy' % (lowres_name, highres_name)):\n",
    "        nearest_vertices, nearest_dists = get_corresponding_vertices_between_icospheres(lowres_ico.vertices, highres_ico.vertices)\n",
    "\n",
    "        print(\"%s_to_%s\" % (lowres_name, highres_name))\n",
    "        np.save('meshes/%s_to_%s_vertices.npy' % (lowres_name, highres_name), nearest_vertices)\n",
    "        # np.save('meshes/%s_to_%s_vertices_closests_dists.npy' % (lowres_name, highres_name), nearest_dists)\n",
    "\n"
   ]
  }
 ],
 "metadata": {
  "kernelspec": {
   "display_name": "Python 3",
   "language": "python",
   "name": "python3"
  },
  "language_info": {
   "codemirror_mode": {
    "name": "ipython",
    "version": 3
   },
   "file_extension": ".py",
   "mimetype": "text/x-python",
   "name": "python",
   "nbconvert_exporter": "python",
   "pygments_lexer": "ipython3",
   "version": "3.6.13"
  }
 },
 "nbformat": 4,
 "nbformat_minor": 2
}
