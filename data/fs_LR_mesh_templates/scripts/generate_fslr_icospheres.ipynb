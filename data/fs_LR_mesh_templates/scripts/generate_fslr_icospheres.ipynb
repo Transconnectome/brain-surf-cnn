{
 "cells": [
  {
   "cell_type": "code",
   "execution_count": 1,
   "metadata": {},
   "outputs": [],
   "source": [
    "import sys\n",
    "import numpy as np\n",
    "sys.path.insert(0, '/home/ghn8/lib/ugscnn/meshcnn')\n",
    "from mesh_utils import *\n",
    "import scipy.sparse as sparse\n",
    "sys.path.insert(0, '/nfs03/users/ghn8/TaskContrastsFromRest/libigl/python')\n",
    "import pyigl as igl\n",
    "import pickle\n",
    "import os\n",
    "import nibabel.gifti as gi\n",
    "\n"
   ]
  },
  {
   "cell_type": "code",
   "execution_count": 2,
   "metadata": {},
   "outputs": [],
   "source": [
    "# from https://github.com/maxjiang93/ugscnn\n",
    "\n",
    "class icosphere(object):\n",
    "    def __init__(self, vertices, faces, level=0, nv_prev=0, nv_next=0):\n",
    "        self.level = level\n",
    "        self.vertices, self.faces = vertices, faces\n",
    "        self.intp = None\n",
    "        self.v0, self.f0 = self.vertices.copy(), self.faces.copy()\n",
    "\n",
    "        self.normalize()\n",
    "        self.lat, self.long = self.xyz2latlong()\n",
    "        self.nf, self.nv = self.faces.shape[0], self.vertices.shape[0]\n",
    "\n",
    "        self.nv_prev = nv_prev\n",
    "        self.nv_next = nv_next\n",
    "\n",
    "        self.construct_matrices()\n",
    "        self.info = {\"V\": self.vertices,\n",
    "                     \"F\": self.faces,\n",
    "                     \"nv_prev\": self.nv_prev,\n",
    "                     \"nv_next\": self.nv_next,\n",
    "                     \"G\": self.G,\n",
    "                     \"L\": self.L,\n",
    "                     \"N\": self.N,\n",
    "                     \"NS\": self.NS,\n",
    "                     \"EW\": self.EW,\n",
    "                     \"F2V\": self.F2V,\n",
    "                     \"M\": self.M,\n",
    "                     \"Seq\": self.Seq,\n",
    "                     \"Intp\": self.Intp}\n",
    "        \n",
    "    def normalize(self, radius=1):\n",
    "        '''\n",
    "        Reproject to spherical surface\n",
    "        '''\n",
    "        vectors = self.vertices\n",
    "        scalar = (vectors ** 2).sum(axis=1)**.5\n",
    "        unit = vectors / scalar.reshape((-1, 1))\n",
    "        offset = radius - scalar\n",
    "        self.vertices = self.vertices + unit * offset.reshape((-1, 1))\n",
    "        \n",
    "    def xyz2latlong(self):\n",
    "        x, y, z = self.vertices[:, 0], self.vertices[:, 1], self.vertices[:, 2]\n",
    "        long = np.arctan2(y, x)\n",
    "        xy2 = x**2 + y**2\n",
    "        lat = np.arctan2(z, np.sqrt(xy2))\n",
    "        return lat, long\n",
    "    \n",
    "    def construct_matrices(self):\n",
    "        \"\"\"\n",
    "        Construct FEM matrices\n",
    "        \"\"\"\n",
    "        V = p2e(self.vertices)\n",
    "        F = p2e(self.faces)\n",
    "        # Compute gradient operator: #F*3 by #V\n",
    "        G = igl.eigen.SparseMatrixd()\n",
    "        L = igl.eigen.SparseMatrixd()\n",
    "        M = igl.eigen.SparseMatrixd()\n",
    "        N = igl.eigen.MatrixXd()\n",
    "        A = igl.eigen.MatrixXd()\n",
    "        igl.grad(V, F, G)\n",
    "        igl.cotmatrix(V, F, L)\n",
    "        igl.per_face_normals(V, F, N)\n",
    "        igl.doublearea(V, F, A)\n",
    "        igl.massmatrix(V, F, igl.MASSMATRIX_TYPE_VORONOI, M)\n",
    "        G = e2p(G)\n",
    "        L = e2p(L)\n",
    "        N = e2p(N)\n",
    "        A = e2p(A)\n",
    "        M = e2p(M)\n",
    "        M = M.data\n",
    "        # Compute latitude and longitude directional vector fields\n",
    "        NS = np.reshape(G.dot(self.lat), [self.nf, 3], order='F')\n",
    "        EW = np.cross(NS, N)\n",
    "        # Compute F2V matrix (weigh by area)\n",
    "        # adjacency\n",
    "        i = self.faces.ravel()\n",
    "        j = np.arange(self.nf).repeat(3)\n",
    "        one = np.ones(self.nf * 3)\n",
    "        adj = sparse.csc_matrix((one, (i, j)), shape=(self.nv, self.nf))\n",
    "        tot_area = adj.dot(A)\n",
    "        norm_area = A.ravel().repeat(3)/np.squeeze(tot_area[i])\n",
    "        F2V = sparse.csc_matrix((norm_area, (i, j)), shape=(self.nv, self.nf))\n",
    "        # Compute interpolation matrix\n",
    "        if self.level > 0:\n",
    "            intp = self.intp[self.nv_prev:]\n",
    "            i = np.concatenate((np.arange(self.nv), np.arange(self.nv_prev, self.nv)))\n",
    "            j = np.concatenate((np.arange(self.nv_prev), intp[:, 0], intp[:, 1]))\n",
    "            ratio = np.concatenate((np.ones(self.nv_prev), 0.5*np.ones(2*intp.shape[0])))\n",
    "            intp = sparse.csc_matrix((ratio, (i, j)), shape=(self.nv, self.nv_prev))\n",
    "        else:\n",
    "            intp = sparse.csc_matrix(np.eye(self.nv))\n",
    "\n",
    "\n",
    "        # Compute vertex mean matrix\n",
    "        self.G = G  # gradient matrix\n",
    "        self.L = L  # laplacian matrix\n",
    "        self.N = N  # normal vectors (per-triangle)\n",
    "        self.NS = NS  # north-south vectors (per-triangle)\n",
    "        self.EW = EW  # east-west vectors (per-triangle)\n",
    "        self.F2V = F2V  # map face quantities to vertices\n",
    "        self.M = M # mass matrix (area of voronoi cell around node. for integration)\n",
    "        self.Seq = self._rotseq(self.vertices)\n",
    "        self.Intp = intp\n",
    "\n",
    "    def _find_neighbor(self, F, ind):\n",
    "        \"\"\"find a icosahedron neighbor of vertex i\"\"\"\n",
    "        FF = [F[i] for i in range(F.shape[0]) if ind in F[i]]\n",
    "        FF = np.concatenate(FF)\n",
    "        FF = np.unique(FF)\n",
    "        neigh = [f for f in FF if f != ind]\n",
    "        return neigh\n",
    "    \n",
    "    def _rot_matrix(self, rot_axis, cos_t, sin_t):\n",
    "        k = rot_axis / np.linalg.norm(rot_axis)\n",
    "        I = np.eye(3)\n",
    "\n",
    "        R = []\n",
    "        for i in range(3):\n",
    "            v = I[i]\n",
    "            vr = v*cos_t+np.cross(k, v)*sin_t+k*(k.dot(v))*(1-cos_t)\n",
    "            R.append(vr)\n",
    "        R = np.stack(R, axis=-1)\n",
    "        return R\n",
    "\n",
    "    def _ico_rot_matrix(self, ind):\n",
    "        \"\"\"\n",
    "        return rotation matrix to perform permutation corresponding to \n",
    "        moving a certain icosahedron node to the top\n",
    "        \"\"\"\n",
    "        v0_ = self.v0.copy()\n",
    "        f0_ = self.f0.copy()\n",
    "        V0 = v0_[ind]\n",
    "        Z0 = np.array([0, 0, 1])\n",
    "\n",
    "        # rotate the point to the top (+z)\n",
    "        k = np.cross(V0, Z0)\n",
    "        ct = np.dot(V0, Z0)\n",
    "        st = -np.linalg.norm(k)\n",
    "        R = self._rot_matrix(k, ct, st)\n",
    "        v0_ = v0_.dot(R)\n",
    "\n",
    "        # rotate a neighbor to align with (+y)\n",
    "        ni = self._find_neighbor(f0_, ind)[0]\n",
    "        vec = v0_[ni].copy()\n",
    "        vec[2] = 0\n",
    "        vec = vec/np.linalg.norm(vec)\n",
    "        y_ = np.eye(3)[1]\n",
    "\n",
    "        k = np.eye(3)[2]\n",
    "        crs = np.cross(vec, y_)\n",
    "        ct = np.dot(vec, y_)\n",
    "        st = -np.sign(crs[-1])*np.linalg.norm(crs)\n",
    "\n",
    "        R2 = self._rot_matrix(k, ct, st)\n",
    "        return R.dot(R2)\n",
    "\n",
    "    def _rotseq(self, V, acc=9):\n",
    "        \"\"\"sequence to move an original node on icosahedron to top\"\"\"\n",
    "        seq = []\n",
    "        for i in range(11):\n",
    "            Vr = V.dot(self._ico_rot_matrix(i))\n",
    "            # lexsort\n",
    "            s1 = np.lexsort(np.round(V.T, acc))\n",
    "            s2 = np.lexsort(np.round(Vr.T, acc))\n",
    "            s = s1[np.argsort(s2)]\n",
    "            seq.append(s)\n",
    "        return tuple(seq)\n",
    "    \n",
    "    def export_mesh_info(self, filename):\n",
    "        \"\"\"Write mesh info as pickle file\"\"\"\n",
    "        with open(filename, \"wb\") as f:\n",
    "            pickle.dump(self.info, f)\n",
    "\n",
    "        "
   ]
  },
  {
   "cell_type": "code",
   "execution_count": 3,
   "metadata": {},
   "outputs": [],
   "source": [
    "def get_corresponding_vertices_between_icospheres(ico1_vertices, ico2_vertices):\n",
    "    closest_vertices = []\n",
    "    closest_dists = []\n",
    "    for i in range(ico1_vertices.shape[0]):\n",
    "        if i % 1000 == 0:\n",
    "            print(i, \"/\", ico1_vertices.shape[0])\n",
    "        ico1_v = ico1_vertices[i, :]\n",
    "        \n",
    "        min_dist = sys.float_info.max\n",
    "        closest_point = -1\n",
    "        for j in range(ico2_vertices.shape[0]):\n",
    "            ico2_v = ico2_vertices[j, :]\n",
    "            dist = np.mean((ico1_v - ico2_v)**2)\n",
    "            \n",
    "            if dist == 0:\n",
    "                min_dist = 0\n",
    "                closest_point = j\n",
    "                break\n",
    "            elif dist < min_dist:\n",
    "                min_dist = dist\n",
    "                closest_point = j\n",
    "        closest_vertices.append(closest_point)\n",
    "        closest_dists.append(min_dist)\n",
    "\n",
    "    return closest_vertices, closest_dists"
   ]
  },
  {
   "cell_type": "code",
   "execution_count": 4,
   "metadata": {},
   "outputs": [],
   "source": [
    "def get_nearest_vertices_in_lower_res_icosphere(highres_ico_vertices, lowres_ico_vertices, num_neighbors=7):\n",
    "    closest_vertices = []\n",
    "    closest_dists = []\n",
    "    for i in range(highres_ico_vertices.shape[0]):\n",
    "        if i % 1000 == 0:\n",
    "            print(i, \"/\", highres_ico_vertices.shape[0])\n",
    "        ico1_v = highres_ico_vertices[i, :]\n",
    "\n",
    "        dists = np.mean((lowres_ico_vertices - ico1_v)**2, axis=1)\n",
    "        sorted_dist_indices = np.argsort(dists)\n",
    "        nearest_indices = sorted_dist_indices[:num_neighbors]\n",
    "        nearest_dists = dists[nearest_indices]\n",
    "        \n",
    "        closest_vertices.append(nearest_indices)\n",
    "        closest_dists.append(nearest_dists)\n",
    "\n",
    "                \n",
    "    return np.asarray(closest_vertices), np.asarray(closest_dists)"
   ]
  },
  {
   "cell_type": "code",
   "execution_count": 5,
   "metadata": {},
   "outputs": [
    {
     "name": "stderr",
     "output_type": "stream",
     "text": [
      "/home/ghn8/.conda/envs/brain_surf_cnn/lib/python3.6/site-packages/ipykernel_launcher.py:1: DeprecationWarning: giftiio.read function deprecated. Use nibabel.load() instead.\n",
      "\n",
      "* deprecated from version: 2.1\n",
      "* Will raise <class 'nibabel.deprecator.ExpiredDeprecationError'> as of version: 4.0\n",
      "  \"\"\"Entry point for launching an IPython kernel.\n",
      "/home/ghn8/.conda/envs/brain_surf_cnn/lib/python3.6/site-packages/ipykernel_launcher.py:2: DeprecationWarning: giftiio.read function deprecated. Use nibabel.load() instead.\n",
      "\n",
      "* deprecated from version: 2.1\n",
      "* Will raise <class 'nibabel.deprecator.ExpiredDeprecationError'> as of version: 4.0\n",
      "  \n",
      "/home/ghn8/.conda/envs/brain_surf_cnn/lib/python3.6/site-packages/ipykernel_launcher.py:3: DeprecationWarning: giftiio.read function deprecated. Use nibabel.load() instead.\n",
      "\n",
      "* deprecated from version: 2.1\n",
      "* Will raise <class 'nibabel.deprecator.ExpiredDeprecationError'> as of version: 4.0\n",
      "  This is separate from the ipykernel package so we can avoid doing imports until\n",
      "/home/ghn8/.conda/envs/brain_surf_cnn/lib/python3.6/site-packages/ipykernel_launcher.py:4: DeprecationWarning: giftiio.read function deprecated. Use nibabel.load() instead.\n",
      "\n",
      "* deprecated from version: 2.1\n",
      "* Will raise <class 'nibabel.deprecator.ExpiredDeprecationError'> as of version: 4.0\n",
      "  after removing the cwd from sys.path.\n",
      "/home/ghn8/.conda/envs/brain_surf_cnn/lib/python3.6/site-packages/ipykernel_launcher.py:5: DeprecationWarning: giftiio.read function deprecated. Use nibabel.load() instead.\n",
      "\n",
      "* deprecated from version: 2.1\n",
      "* Will raise <class 'nibabel.deprecator.ExpiredDeprecationError'> as of version: 4.0\n",
      "  \"\"\"\n",
      "/home/ghn8/.conda/envs/brain_surf_cnn/lib/python3.6/site-packages/ipykernel_launcher.py:6: DeprecationWarning: giftiio.read function deprecated. Use nibabel.load() instead.\n",
      "\n",
      "* deprecated from version: 2.1\n",
      "* Will raise <class 'nibabel.deprecator.ExpiredDeprecationError'> as of version: 4.0\n",
      "  \n",
      "/home/ghn8/.conda/envs/brain_surf_cnn/lib/python3.6/site-packages/ipykernel_launcher.py:7: DeprecationWarning: giftiio.read function deprecated. Use nibabel.load() instead.\n",
      "\n",
      "* deprecated from version: 2.1\n",
      "* Will raise <class 'nibabel.deprecator.ExpiredDeprecationError'> as of version: 4.0\n",
      "  import sys\n",
      "/home/ghn8/.conda/envs/brain_surf_cnn/lib/python3.6/site-packages/ipykernel_launcher.py:8: DeprecationWarning: giftiio.read function deprecated. Use nibabel.load() instead.\n",
      "\n",
      "* deprecated from version: 2.1\n",
      "* Will raise <class 'nibabel.deprecator.ExpiredDeprecationError'> as of version: 4.0\n",
      "  \n",
      "/home/ghn8/.conda/envs/brain_surf_cnn/lib/python3.6/site-packages/ipykernel_launcher.py:9: DeprecationWarning: giftiio.read function deprecated. Use nibabel.load() instead.\n",
      "\n",
      "* deprecated from version: 2.1\n",
      "* Will raise <class 'nibabel.deprecator.ExpiredDeprecationError'> as of version: 4.0\n",
      "  if __name__ == '__main__':\n",
      "/home/ghn8/.conda/envs/brain_surf_cnn/lib/python3.6/site-packages/ipykernel_launcher.py:10: DeprecationWarning: giftiio.read function deprecated. Use nibabel.load() instead.\n",
      "\n",
      "* deprecated from version: 2.1\n",
      "* Will raise <class 'nibabel.deprecator.ExpiredDeprecationError'> as of version: 4.0\n",
      "  # Remove the CWD from sys.path while we load stuff.\n",
      "/home/ghn8/.conda/envs/brain_surf_cnn/lib/python3.6/site-packages/ipykernel_launcher.py:11: DeprecationWarning: giftiio.read function deprecated. Use nibabel.load() instead.\n",
      "\n",
      "* deprecated from version: 2.1\n",
      "* Will raise <class 'nibabel.deprecator.ExpiredDeprecationError'> as of version: 4.0\n",
      "  # This is added back by InteractiveShellApp.init_path()\n"
     ]
    }
   ],
   "source": [
    "# \n",
    "\n",
    "mesh50 = gi.read ('/nfs03/data/HCPpipelines/global/templates/standard_mesh_atlases/L.sphere.50_fs_LR.surf.gii')\n",
    "mesh100 = gi.read ('/nfs03/data/HCPpipelines/global/templates/standard_mesh_atlases/L.sphere.100_fs_LR.surf.gii')\n",
    "mesh200 = gi.read ('/nfs03/data/HCPpipelines/global/templates/standard_mesh_atlases/L.sphere.200_fs_LR.surf.gii')\n"
   ]
  },
  {
   "cell_type": "code",
   "execution_count": 6,
   "metadata": {},
   "outputs": [],
   "source": [
    "ico50 = icosphere(mesh50.darrays[0].data, mesh50.darrays[1].data, level=0, nv_prev=0, nv_next=len(mesh100.darrays[0].data))\n",
    "ico100 = icosphere(mesh100.darrays[0].data, mesh100.darrays[1].data, level=0, nv_prev=len(mesh50.darrays[0].data), nv_next=len(mesh200.darrays[0].data))\n",
    "ico200 = icosphere(mesh200.darrays[0].data, mesh200.darrays[1].data, level=0, nv_prev=len(mesh100.darrays[0].data), nv_next=len(mesh500.darrays[0].data))\n",
    "ico500 = icosphere(mesh500.darrays[0].data, mesh500.darrays[1].data, level=0, nv_prev=len(mesh200.darrays[0].data), nv_next=len(mesh1k.darrays[0].data))\n",
    "ico1k = icosphere(mesh1k.darrays[0].data, mesh1k.darrays[1].data, level=0, nv_prev=len(mesh500.darrays[0].data), nv_next=len(mesh2k.darrays[0].data))\n",
    "ico2k = icosphere(mesh2k.darrays[0].data, mesh2k.darrays[1].data, level=0, nv_prev=len(mesh1k.darrays[0].data), nv_next=len(mesh10k.darrays[0].data))\n",
    "ico2k = icosphere(mesh2k.darrays[0].data, mesh2k.darrays[1].data, level=0, nv_prev=len(mesh1k.darrays[0].data), nv_next=len(mesh10k.darrays[0].data))\n",
    "ico10k = icosphere(mesh10k.darrays[0].data, mesh10k.darrays[1].data, level=0, nv_prev=len(mesh2k.darrays[0].data), nv_next=len(mesh32k.darrays[0].data))\n",
    "ico32k = icosphere(mesh32k.darrays[0].data, mesh32k.darrays[1].data, level=0, nv_prev=len(mesh10k.darrays[0].data), nv_next=0)\n",
    "\n"
   ]
  },
  {
   "cell_type": "code",
   "execution_count": 7,
   "metadata": {},
   "outputs": [
    {
     "name": "stdout",
     "output_type": "stream",
     "text": [
      "42 0 92\n",
      "92 42 162\n",
      "162 92 492\n",
      "492 162 1002\n",
      "1002 492 2562\n",
      "2562 1002 10242\n",
      "10242 2562 32492\n",
      "32492 10242 0\n"
     ]
    }
   ],
   "source": [
    "print(ico50.nv, ico50.nv_prev, ico50.nv_next)\n",
    "print(ico100.nv, ico100.nv_prev, ico100.nv_next)\n",
    "print(ico200.nv, ico200.nv_prev, ico200.nv_next)\n",
    "print(ico500.nv, ico500.nv_prev, ico500.nv_next)\n",
    "print(ico1k.nv, ico1k.nv_prev, ico1k.nv_next)\n",
    "print(ico2k.nv, ico2k.nv_prev, ico2k.nv_next)\n",
    "print(ico10k.nv, ico10k.nv_prev, ico10k.nv_next)\n",
    "print(ico32k.nv, ico32k.nv_prev, ico32k.nv_next)"
   ]
  },
  {
   "cell_type": "markdown",
   "metadata": {},
   "source": [
    "# 1k - 4k - 32k"
   ]
  },
  {
   "cell_type": "code",
   "execution_count": 12,
   "metadata": {},
   "outputs": [],
   "source": [
    "ico1k = icosphere(mesh1k.darrays[0].data, mesh1k.darrays[1].data, level=0, nv_prev=0, nv_next=len(mesh4k.darrays[0].data))\n",
    "ico4k = icosphere(mesh4k.darrays[0].data, mesh4k.darrays[1].data, level=0, nv_prev=len(mesh1k.darrays[0].data), nv_next=len(mesh32k.darrays[0].data))\n",
    "ico32k = icosphere(mesh32k.darrays[0].data, mesh32k.darrays[1].data, level=0, nv_prev=len(mesh4k.darrays[0].data), nv_next=0)\n",
    "\n"
   ]
  },
  {
   "cell_type": "code",
   "execution_count": 14,
   "metadata": {},
   "outputs": [],
   "source": [
    "ico1k.export_mesh_info('meshes/1k-4k-32k/ico1k.pkl')\n",
    "ico4k.export_mesh_info('meshes/1k-4k-32k/ico4k.pkl')\n",
    "ico32k.export_mesh_info('meshes/1k-4k-32k/ico32k.pkl')"
   ]
  },
  {
   "cell_type": "code",
   "execution_count": 15,
   "metadata": {},
   "outputs": [
    {
     "name": "stdout",
     "output_type": "stream",
     "text": [
      "1002 0 4002\n",
      "4002 1002 32492\n",
      "32492 4002 0\n"
     ]
    }
   ],
   "source": [
    "all_icos = [ico1k, ico4k, ico32k]\n",
    "all_ico_names = [\"icosphere_0\", \"icosphere_1\", \"icosphere_2\"]\n",
    "\n",
    "for ico in all_icos:\n",
    "    print(ico.nv, ico.nv_prev, ico.nv_next)"
   ]
  },
  {
   "cell_type": "code",
   "execution_count": 16,
   "metadata": {},
   "outputs": [
    {
     "name": "stdout",
     "output_type": "stream",
     "text": [
      "(1002, 7)\n",
      "(4002, 7)\n",
      "(32492, 7)\n"
     ]
    }
   ],
   "source": [
    "for i in range(len(all_icos)):\n",
    "    ico = all_icos[i]\n",
    "    name = all_ico_names[i]\n",
    "    if not os.path.exists(\"meshes/1k-4k-32k/%s_neighbor_patches.npy\" % name):\n",
    "        ico_neighbors = []\n",
    "        for i in range(len(ico.vertices)):\n",
    "            neighbors = ico._find_neighbor(ico.faces, i)\n",
    "            patch = [i] + neighbors\n",
    "            if len(patch) < 7:\n",
    "                patch = [i] + patch\n",
    "            ico_neighbors.append(np.asarray(patch))\n",
    "        ico_neighbors = np.asarray(ico_neighbors)\n",
    "        print(ico_neighbors.shape)\n",
    "        np.save(\"meshes/1k-4k-32k/%s_neighbor_patches.npy\" % name, ico_neighbors)"
   ]
  },
  {
   "cell_type": "code",
   "execution_count": 18,
   "metadata": {},
   "outputs": [],
   "source": [
    "for i in range(len(all_icos)-1, 0, -1):\n",
    "    highres_ico = all_icos[i]\n",
    "    highres_name =all_ico_names[i]\n",
    "    lowres_ico = all_icos[i-1]\n",
    "    lowres_name =all_ico_names[i-1]\n",
    "    \n",
    "    if not os.path.exists('meshes/1k-4k-32k/%s_to_%s_vertices.npy' % (highres_name, lowres_name)):\n",
    "        nearest_vertices, nearest_dists = get_nearest_vertices_in_lower_res_icosphere(highres_ico.vertices, lowres_ico.vertices)\n",
    "\n",
    "        np.save('meshes/1k-4k-32k/%s_to_%s_vertices.npy' % (highres_name, lowres_name), nearest_vertices)\n",
    "        np.save('meshes/1k-4k-32k/%s_to_%s_vertices_closests_dists.npy' % (highres_name, lowres_name), nearest_dists)\n",
    "\n"
   ]
  },
  {
   "cell_type": "code",
   "execution_count": 19,
   "metadata": {},
   "outputs": [
    {
     "name": "stdout",
     "output_type": "stream",
     "text": [
      "0 / 1002\n",
      "1000 / 1002\n",
      "icosphere_0_to_icosphere_1\n",
      "0 / 4002\n",
      "1000 / 4002\n",
      "2000 / 4002\n",
      "3000 / 4002\n",
      "4000 / 4002\n",
      "icosphere_1_to_icosphere_2\n"
     ]
    }
   ],
   "source": [
    "for i in range(len(all_icos)-1):\n",
    "    highres_ico = all_icos[i+1]\n",
    "    highres_name =all_ico_names[i+1]\n",
    "    lowres_ico = all_icos[i]\n",
    "    lowres_name =all_ico_names[i]\n",
    "    \n",
    "    if not os.path.exists('meshes/1k-4k-32k/%s_to_%s_vertices.npy' % (lowres_name, highres_name)):\n",
    "        nearest_vertices, nearest_dists = get_corresponding_vertices_between_icospheres(lowres_ico.vertices, highres_ico.vertices)\n",
    "\n",
    "        print(\"%s_to_%s\" % (lowres_name, highres_name))\n",
    "        np.save('meshes/1k-4k-32k/%s_to_%s_vertices.npy' % (lowres_name, highres_name), nearest_vertices)\n",
    "        np.save('meshes/1k-4k-32k/%s_to_%s_vertices_closests_dists.npy' % (lowres_name, highres_name), nearest_dists)\n",
    "\n"
   ]
  },
  {
   "cell_type": "markdown",
   "metadata": {},
   "source": [
    "# 500 - 2k - 8k - 32k"
   ]
  },
  {
   "cell_type": "code",
   "execution_count": 8,
   "metadata": {},
   "outputs": [],
   "source": [
    "ico500 = icosphere(mesh500.darrays[0].data, mesh500.darrays[1].data, level=0, nv_prev=0, nv_next=len(mesh2k.darrays[0].data))\n",
    "ico2k = icosphere(mesh2k.darrays[0].data, mesh2k.darrays[1].data, level=0, nv_prev=len(mesh500.darrays[0].data), nv_next=len(mesh2k.darrays[0].data))\n",
    "ico8k = icosphere(mesh8k.darrays[0].data, mesh8k.darrays[1].data, level=0, nv_prev=len(mesh2k.darrays[0].data), nv_next=len(mesh32k.darrays[0].data))\n",
    "ico32k = icosphere(mesh32k.darrays[0].data, mesh32k.darrays[1].data, level=0, nv_prev=len(mesh8k.darrays[0].data), nv_next=0)\n",
    "\n"
   ]
  },
  {
   "cell_type": "code",
   "execution_count": 9,
   "metadata": {},
   "outputs": [
    {
     "name": "stdout",
     "output_type": "stream",
     "text": [
      "492 0 2562\n",
      "2562 492 2562\n",
      "7842 2562 32492\n",
      "32492 7842 0\n"
     ]
    }
   ],
   "source": [
    "all_icos = [ico500, ico2k, ico8k, ico32k]\n",
    "all_ico_names = [\"ico500\", \"ico2k\", \"ico8k\", \"ico32k\"]\n",
    "\n",
    "for ico in all_icos:\n",
    "    print(ico.nv, ico.nv_prev, ico.nv_next)"
   ]
  },
  {
   "cell_type": "code",
   "execution_count": 14,
   "metadata": {},
   "outputs": [],
   "source": [
    "ico500.export_mesh_info('meshes/500-2k-8k-32k/icosphere_500.pkl')"
   ]
  },
  {
   "cell_type": "code",
   "execution_count": 11,
   "metadata": {},
   "outputs": [],
   "source": [
    "for i in range(len(all_icos)):\n",
    "    ico = all_icos[i]\n",
    "    name = all_ico_names[i]\n",
    "    if not os.path.exists(\"meshes/%s_neighbor_patches.npy\" % name):\n",
    "        ico_neighbors = []\n",
    "        for i in range(len(ico.vertices)):\n",
    "            neighbors = ico._find_neighbor(ico.faces, i)\n",
    "            patch = [i] + neighbors\n",
    "            if len(patch) < 7:\n",
    "                patch = [i] + patch\n",
    "            ico_neighbors.append(np.asarray(patch))\n",
    "        ico_neighbors = np.asarray(ico_neighbors)\n",
    "        print(ico_neighbors.shape)\n",
    "        np.save(\"meshes/%s_neighbor_patches.npy\" % name, ico_neighbors)"
   ]
  },
  {
   "cell_type": "code",
   "execution_count": 12,
   "metadata": {
    "scrolled": true
   },
   "outputs": [
    {
     "name": "stdout",
     "output_type": "stream",
     "text": [
      "0 / 32492\n",
      "1000 / 32492\n",
      "2000 / 32492\n",
      "3000 / 32492\n",
      "4000 / 32492\n",
      "5000 / 32492\n",
      "6000 / 32492\n",
      "7000 / 32492\n",
      "8000 / 32492\n",
      "9000 / 32492\n",
      "10000 / 32492\n",
      "11000 / 32492\n",
      "12000 / 32492\n",
      "13000 / 32492\n",
      "14000 / 32492\n",
      "15000 / 32492\n",
      "16000 / 32492\n",
      "17000 / 32492\n",
      "18000 / 32492\n",
      "19000 / 32492\n",
      "20000 / 32492\n",
      "21000 / 32492\n",
      "22000 / 32492\n",
      "23000 / 32492\n",
      "24000 / 32492\n",
      "25000 / 32492\n",
      "26000 / 32492\n",
      "27000 / 32492\n",
      "28000 / 32492\n",
      "29000 / 32492\n",
      "30000 / 32492\n",
      "31000 / 32492\n",
      "32000 / 32492\n",
      "0 / 7842\n",
      "1000 / 7842\n",
      "2000 / 7842\n",
      "3000 / 7842\n",
      "4000 / 7842\n",
      "5000 / 7842\n",
      "6000 / 7842\n",
      "7000 / 7842\n",
      "0 / 2562\n",
      "1000 / 2562\n",
      "2000 / 2562\n"
     ]
    }
   ],
   "source": [
    "for i in range(len(all_icos)-1, 0, -1):\n",
    "    highres_ico = all_icos[i]\n",
    "    highres_name =all_ico_names[i]\n",
    "    lowres_ico = all_icos[i-1]\n",
    "    lowres_name =all_ico_names[i-1]\n",
    "    \n",
    "    if not os.path.exists('meshes/%s_to_%s_vertices.npy' % (highres_name, lowres_name)):\n",
    "        nearest_vertices, nearest_dists = get_nearest_vertices_in_lower_res_icosphere(highres_ico.vertices, lowres_ico.vertices)\n",
    "\n",
    "        np.save('meshes/%s_to_%s_vertices.npy' % (highres_name, lowres_name), nearest_vertices)\n",
    "        np.save('meshes/%s_to_%s_vertices_closests_dists.npy' % (highres_name, lowres_name), nearest_dists)\n",
    "\n"
   ]
  },
  {
   "cell_type": "code",
   "execution_count": 13,
   "metadata": {
    "scrolled": true
   },
   "outputs": [
    {
     "name": "stdout",
     "output_type": "stream",
     "text": [
      "0 / 492\n",
      "ico500_to_ico2k\n",
      "0 / 2562\n",
      "1000 / 2562\n",
      "2000 / 2562\n",
      "ico2k_to_ico8k\n",
      "0 / 7842\n",
      "1000 / 7842\n",
      "2000 / 7842\n",
      "3000 / 7842\n",
      "4000 / 7842\n",
      "5000 / 7842\n",
      "6000 / 7842\n",
      "7000 / 7842\n",
      "ico8k_to_ico32k\n"
     ]
    }
   ],
   "source": [
    "for i in range(len(all_icos)-1):\n",
    "    highres_ico = all_icos[i+1]\n",
    "    highres_name =all_ico_names[i+1]\n",
    "    lowres_ico = all_icos[i]\n",
    "    lowres_name =all_ico_names[i]\n",
    "    \n",
    "    if not os.path.exists('meshes/%s_to_%s_vertices.npy' % (lowres_name, highres_name)):\n",
    "        nearest_vertices, nearest_dists = get_corresponding_vertices_between_icospheres(lowres_ico.vertices, highres_ico.vertices)\n",
    "\n",
    "        print(\"%s_to_%s\" % (lowres_name, highres_name))\n",
    "        np.save('meshes/%s_to_%s_vertices.npy' % (lowres_name, highres_name), nearest_vertices)\n",
    "        np.save('meshes/%s_to_%s_vertices_closests_dists.npy' % (lowres_name, highres_name), nearest_dists)\n",
    "\n"
   ]
  },
  {
   "cell_type": "markdown",
   "metadata": {},
   "source": [
    "# 100-500-2k-8k-32k"
   ]
  },
  {
   "cell_type": "code",
   "execution_count": 15,
   "metadata": {},
   "outputs": [],
   "source": [
    "ico100 = icosphere(mesh100.darrays[0].data, mesh100.darrays[1].data, level=0, nv_prev=0, nv_next=len(mesh500.darrays[0].data))\n",
    "ico500 = icosphere(mesh500.darrays[0].data, mesh500.darrays[1].data, level=0, nv_prev=len(mesh100.darrays[0].data), nv_next=len(mesh2k.darrays[0].data))\n",
    "ico2k = icosphere(mesh2k.darrays[0].data, mesh2k.darrays[1].data, level=0, nv_prev=len(mesh500.darrays[0].data), nv_next=len(mesh2k.darrays[0].data))\n",
    "ico8k = icosphere(mesh8k.darrays[0].data, mesh8k.darrays[1].data, level=0, nv_prev=len(mesh2k.darrays[0].data), nv_next=len(mesh32k.darrays[0].data))\n",
    "ico32k = icosphere(mesh32k.darrays[0].data, mesh32k.darrays[1].data, level=0, nv_prev=len(mesh8k.darrays[0].data), nv_next=0)\n"
   ]
  },
  {
   "cell_type": "code",
   "execution_count": 18,
   "metadata": {},
   "outputs": [],
   "source": [
    "output_dir = \"100-500-2k-8k-32k\"\n",
    "ico100.export_mesh_info(os.path.join(\"meshes\", output_dir, \"icosphere_100.pkl\"))\n",
    "ico500.export_mesh_info(os.path.join(\"meshes\", output_dir, \"icosphere_500.pkl\"))\n"
   ]
  },
  {
   "cell_type": "code",
   "execution_count": 17,
   "metadata": {},
   "outputs": [
    {
     "name": "stdout",
     "output_type": "stream",
     "text": [
      "92 0 492\n",
      "492 92 2562\n",
      "2562 492 2562\n",
      "7842 2562 32492\n",
      "32492 7842 0\n"
     ]
    }
   ],
   "source": [
    "all_icos = [ico100, ico500, ico2k, ico8k, ico32k]\n",
    "all_ico_names = [\"ico100\", \"ico500\", \"ico2k\", \"ico8k\", \"ico32k\"]\n",
    "\n",
    "for ico in all_icos:\n",
    "    print(ico.nv, ico.nv_prev, ico.nv_next)"
   ]
  },
  {
   "cell_type": "code",
   "execution_count": 20,
   "metadata": {},
   "outputs": [
    {
     "name": "stdout",
     "output_type": "stream",
     "text": [
      "(92, 7)\n"
     ]
    }
   ],
   "source": [
    "for i in range(len(all_icos)):\n",
    "    ico = all_icos[i]\n",
    "    name = all_ico_names[i]\n",
    "    if not os.path.exists(os.path.join(\"meshes\", output_dir, \"%s_neighbor_patches.npy\" % name)):\n",
    "        ico_neighbors = []\n",
    "        for i in range(len(ico.vertices)):\n",
    "            neighbors = ico._find_neighbor(ico.faces, i)\n",
    "            patch = [i] + neighbors\n",
    "            if len(patch) < 7:\n",
    "                patch = [i] + patch\n",
    "            ico_neighbors.append(np.asarray(patch))\n",
    "        ico_neighbors = np.asarray(ico_neighbors)\n",
    "        print(ico_neighbors.shape)\n",
    "        np.save(os.path.join(\"meshes\", output_dir, \"%s_neighbor_patches.npy\" % name), ico_neighbors)"
   ]
  },
  {
   "cell_type": "code",
   "execution_count": 22,
   "metadata": {},
   "outputs": [
    {
     "name": "stdout",
     "output_type": "stream",
     "text": [
      "0 / 92\n",
      "ico100_to_ico500\n"
     ]
    }
   ],
   "source": [
    "for i in range(len(all_icos)-1):\n",
    "    highres_ico = all_icos[i+1]\n",
    "    highres_name =all_ico_names[i+1]\n",
    "    lowres_ico = all_icos[i]\n",
    "    lowres_name =all_ico_names[i]\n",
    "    \n",
    "    if not os.path.exists(os.path.join(\"meshes\", output_dir, \"%s_to_%s_vertices.npy\" % (lowres_name, highres_name))):\n",
    "        nearest_vertices, nearest_dists = get_corresponding_vertices_between_icospheres(lowres_ico.vertices, highres_ico.vertices)\n",
    "\n",
    "        print(\"%s_to_%s\" % (lowres_name, highres_name))\n",
    "        np.save(os.path.join(\"meshes\", output_dir, \"%s_to_%s_vertices.npy\" % (lowres_name, highres_name)), nearest_vertices)\n",
    "        np.save(os.path.join(\"meshes\", output_dir, \"%s_to_%s_vertices_closests_dists.npy\" % (lowres_name, highres_name)), nearest_dists)\n"
   ]
  },
  {
   "cell_type": "code",
   "execution_count": 28,
   "metadata": {},
   "outputs": [
    {
     "name": "stdout",
     "output_type": "stream",
     "text": [
      "ico500_to_ico100\n",
      "0 / 492\n"
     ]
    }
   ],
   "source": [
    "for i in range(len(all_icos)-1, 0, -1):\n",
    "    highres_ico = all_icos[i]\n",
    "    highres_name = all_ico_names[i]\n",
    "    lowres_ico = all_icos[i-1]\n",
    "    lowres_name = all_ico_names[i-1]\n",
    "    \n",
    "    if not os.path.exists(os.path.join(\"meshes\", output_dir, \"%s_to_%s_vertices.npy\" % (highres_name, lowres_name))):\n",
    "        print(\"%s_to_%s\" % (highres_name, lowres_name))\n",
    "        nearest_vertices, nearest_dists = get_nearest_vertices_in_lower_res_icosphere(highres_ico.vertices, lowres_ico.vertices)\n",
    "\n",
    "        np.save(os.path.join(\"meshes\", output_dir, '%s_to_%s_vertices.npy' % (highres_name, lowres_name)), nearest_vertices)\n",
    "        np.save(os.path.join(\"meshes\", output_dir, '%s_to_%s_vertices_closests_dists.npy' % (highres_name, lowres_name)), nearest_dists)\n",
    "\n"
   ]
  },
  {
   "cell_type": "code",
   "execution_count": 25,
   "metadata": {},
   "outputs": [
    {
     "data": {
      "text/plain": [
       "['ico100', 'ico500', 'ico2k', 'ico8k', 'ico32k']"
      ]
     },
     "execution_count": 25,
     "metadata": {},
     "output_type": "execute_result"
    }
   ],
   "source": [
    "all_ico_names"
   ]
  },
  {
   "cell_type": "markdown",
   "metadata": {},
   "source": [
    "# 4 levels: 2k - 4k - 8k - 16k - 32k"
   ]
  },
  {
   "cell_type": "code",
   "execution_count": 23,
   "metadata": {},
   "outputs": [],
   "source": [
    "ico2k = icosphere(mesh2k.darrays[0].data, mesh2k.darrays[1].data, level=0, nv_prev=0, nv_next=len(mesh4k.darrays[0].data))\n",
    "ico4k = icosphere(mesh4k.darrays[0].data, mesh4k.darrays[1].data, level=0, nv_prev=len(mesh2k.darrays[0].data), nv_next=len(mesh8k.darrays[0].data))\n",
    "ico8k = icosphere(mesh8k.darrays[0].data, mesh8k.darrays[1].data, level=0, nv_prev=len(mesh4k.darrays[0].data), nv_next=len(mesh16k.darrays[0].data))\n",
    "ico16k = icosphere(mesh16k.darrays[0].data, mesh16k.darrays[1].data, level=0, nv_prev=len(mesh8k.darrays[0].data), nv_next=len(mesh32k.darrays[0].data))\n",
    "ico32k = icosphere(mesh32k.darrays[0].data, mesh32k.darrays[1].data, level=0, nv_prev=len(mesh16k.darrays[0].data), nv_next=0)\n",
    "\n"
   ]
  },
  {
   "cell_type": "code",
   "execution_count": 31,
   "metadata": {},
   "outputs": [],
   "source": [
    "ico50.export_mesh_info('meshes/icosphere_50.pkl')\n",
    "ico100.export_mesh_info('meshes/icosphere_100.pkl')\n",
    "ico200.export_mesh_info('meshes/icosphere_200.pkl')\n",
    "ico500.export_mesh_info('meshes/icosphere_500.pkl')\n",
    "ico1k.export_mesh_info('meshes/icosphere_1k.pkl')"
   ]
  },
  {
   "cell_type": "code",
   "execution_count": 27,
   "metadata": {},
   "outputs": [
    {
     "name": "stdout",
     "output_type": "stream",
     "text": [
      "42 0 92\n",
      "92 42 162\n",
      "162 92 492\n",
      "492 162 1002\n",
      "1002 492 2562\n",
      "2562 0 4002\n"
     ]
    }
   ],
   "source": [
    "# all_icos = [ico2k, ico4k, ico8k, ico16k, ico32k]\n",
    "# all_ico_names = [\"ico2k\", \"ico4k\", \"ico8k\", \"ico16k\", \"ico32k\"]\n",
    "\n",
    "all_icos = [ico50, ico100, ico200, ico500, ico1k, ico2k]\n",
    "all_ico_names = [\"ico50\", \"ico100\", \"ico200\", \"ico500\", \"ico1k\", \"ico2k\"]\n",
    "\n",
    "for ico in all_icos:\n",
    "    print(ico.nv, ico.nv_prev, ico.nv_next)"
   ]
  },
  {
   "cell_type": "markdown",
   "metadata": {},
   "source": [
    "## Neighbors"
   ]
  },
  {
   "cell_type": "code",
   "execution_count": 28,
   "metadata": {},
   "outputs": [
    {
     "name": "stdout",
     "output_type": "stream",
     "text": [
      "(42, 7)\n",
      "(92, 7)\n",
      "(162, 7)\n",
      "(492, 7)\n",
      "(1002, 7)\n",
      "(2562, 7)\n"
     ]
    }
   ],
   "source": [
    "for i in range(len(all_icos)):\n",
    "    ico = all_icos[i]\n",
    "    name = all_ico_names[i]\n",
    "    ico_neighbors = []\n",
    "    for i in range(len(ico.vertices)):\n",
    "        neighbors = ico._find_neighbor(ico.faces, i)\n",
    "        patch = [i] + neighbors\n",
    "        if len(patch) < 7:\n",
    "            patch = [i] + patch\n",
    "        ico_neighbors.append(np.asarray(patch))\n",
    "    ico_neighbors = np.asarray(ico_neighbors)\n",
    "    print(ico_neighbors.shape)\n",
    "    np.save(\"meshes/%s_neighbor_patches.npy\" % name, ico_neighbors)"
   ]
  },
  {
   "cell_type": "markdown",
   "metadata": {},
   "source": [
    "## High-rest to low-res mapping"
   ]
  },
  {
   "cell_type": "code",
   "execution_count": 29,
   "metadata": {},
   "outputs": [
    {
     "name": "stdout",
     "output_type": "stream",
     "text": [
      "0 / 2562\n",
      "1000 / 2562\n",
      "2000 / 2562\n",
      "0 / 1002\n",
      "1000 / 1002\n",
      "0 / 492\n",
      "0 / 162\n",
      "0 / 92\n"
     ]
    }
   ],
   "source": [
    "for i in range(len(all_icos)-1, 0, -1):\n",
    "    highres_ico = all_icos[i]\n",
    "    highres_name =all_ico_names[i]\n",
    "    lowres_ico = all_icos[i-1]\n",
    "    lowres_name =all_ico_names[i-1]\n",
    "    \n",
    "    nearest_vertices, nearest_dists = get_nearest_vertices_in_lower_res_icosphere(highres_ico.vertices, lowres_ico.vertices)\n",
    "    \n",
    "    np.save('meshes/%s_to_%s_vertices.npy' % (highres_name, lowres_name), nearest_vertices)\n",
    "    np.save('meshes/%s_to_%s_vertices_closests_dists.npy' % (highres_name, lowres_name), nearest_dists)\n",
    "\n"
   ]
  },
  {
   "cell_type": "markdown",
   "metadata": {},
   "source": [
    "## Low-res to high-res mapping"
   ]
  },
  {
   "cell_type": "code",
   "execution_count": 30,
   "metadata": {},
   "outputs": [
    {
     "name": "stdout",
     "output_type": "stream",
     "text": [
      "0 / 42\n",
      "ico50_to_ico100\n",
      "0 / 92\n",
      "ico100_to_ico200\n",
      "0 / 162\n",
      "ico200_to_ico500\n",
      "0 / 492\n",
      "ico500_to_ico1k\n",
      "0 / 1002\n",
      "1000 / 1002\n",
      "ico1k_to_ico2k\n"
     ]
    }
   ],
   "source": [
    "for i in range(len(all_icos)-1):\n",
    "    highres_ico = all_icos[i+1]\n",
    "    highres_name =all_ico_names[i+1]\n",
    "    lowres_ico = all_icos[i]\n",
    "    lowres_name =all_ico_names[i]\n",
    "    \n",
    "    nearest_vertices, nearest_dists = get_corresponding_vertices_between_icospheres(lowres_ico.vertices, highres_ico.vertices)\n",
    "    \n",
    "    print(\"%s_to_%s\" % (lowres_name, highres_name))\n",
    "    np.save('meshes/%s_to_%s_vertices.npy' % (lowres_name, highres_name), nearest_vertices)\n",
    "    np.save('meshes/%s_to_%s_vertices_closests_dists.npy' % (lowres_name, highres_name), nearest_dists)\n",
    "\n"
   ]
  }
 ],
 "metadata": {
  "kernelspec": {
   "display_name": "Python 3",
   "language": "python",
   "name": "python3"
  },
  "language_info": {
   "codemirror_mode": {
    "name": "ipython",
    "version": 3
   },
   "file_extension": ".py",
   "mimetype": "text/x-python",
   "name": "python",
   "nbconvert_exporter": "python",
   "pygments_lexer": "ipython3",
   "version": "3.6.13"
  }
 },
 "nbformat": 4,
 "nbformat_minor": 2
}
